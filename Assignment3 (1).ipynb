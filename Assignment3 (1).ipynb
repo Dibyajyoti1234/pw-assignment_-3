{
 "cells": [
  {
   "cell_type": "code",
   "execution_count": null,
   "id": "f831fffd-2682-4435-8de5-d95399ef7f5f",
   "metadata": {},
   "outputs": [],
   "source": [
    "1.when we have to repeat a block of code again and then at this time we use for and while loop use to operate on each elementin a seqence and while loop is use to when we want to operate element in out order."
   ]
  },
  {
   "cell_type": "code",
   "execution_count": 3,
   "id": "86a61ca4-2a18-4e1a-97ee-15a697256695",
   "metadata": {},
   "outputs": [
    {
     "name": "stdout",
     "output_type": "stream",
     "text": [
      "sum of 10 natural number: 1\n",
      "sum of 10 natural number: 2\n",
      "sum of 10 natural number: 4\n",
      "sum of 10 natural number: 7\n",
      "sum of 10 natural number: 11\n",
      "sum of 10 natural number: 16\n",
      "sum of 10 natural number: 22\n",
      "sum of 10 natural number: 29\n",
      "sum of 10 natural number: 37\n",
      "sum of 10 natural number: 46\n",
      "sum of 10 natural number: 56\n"
     ]
    }
   ],
   "source": [
    "2.i)s = 1\n",
    "for i in range (11):\n",
    "    s = s+i\n",
    "    print(\"sum of 10 natural number:\",s)"
   ]
  },
  {
   "cell_type": "code",
   "execution_count": 6,
   "id": "bd3a55ea-e8c7-4a42-a07b-f02856389a34",
   "metadata": {},
   "outputs": [
    {
     "name": "stdout",
     "output_type": "stream",
     "text": [
      "sum of 10 natural number: 1\n",
      "sum of 10 natural number: 3\n",
      "sum of 10 natural number: 6\n",
      "sum of 10 natural number: 10\n",
      "sum of 10 natural number: 15\n",
      "sum of 10 natural number: 21\n",
      "sum of 10 natural number: 28\n",
      "sum of 10 natural number: 36\n",
      "sum of 10 natural number: 45\n",
      "sum of 10 natural number: 55\n"
     ]
    }
   ],
   "source": [
    "ii)s,i = 0,1\n",
    "n =10\n",
    "while i<=n:\n",
    "    s = s+i\n",
    "    i = i+1\n",
    "    print(\"sum of 10 natural number:\",s)"
   ]
  },
  {
   "cell_type": "code",
   "execution_count": 7,
   "id": "25aaabf4-2a53-4e45-906b-ba29165a2259",
   "metadata": {},
   "outputs": [
    {
     "name": "stdin",
     "output_type": "stream",
     "text": [
      "Enter the units : 440\n"
     ]
    },
    {
     "name": "stdout",
     "output_type": "stream",
     "text": [
      "4850\n"
     ]
    }
   ],
   "source": [
    "4)units = int(input(\"Enter the units :\"))\n",
    "if units>0 and units<=100:\n",
    "    electric_bill = units*4.5\n",
    "elif units>=101 and units<=200:\n",
    "    electric_bill = 450+(units-100)*6\n",
    "elif units>=201 and units<=300:\n",
    "    electric_bill = 450+600+(units-200)*10\n",
    "else:\n",
    "    electric_bill = 450+600+1000+(units-300)*20\n",
    "print(electric_bill)"
   ]
  },
  {
   "cell_type": "code",
   "execution_count": 8,
   "id": "d911875e-e80f-47b3-9fec-fcd82f853226",
   "metadata": {},
   "outputs": [
    {
     "name": "stdout",
     "output_type": "stream",
     "text": [
      "[64, 125, 512, 1000, 1728, 3375, 4096, 8000, 13824, 15625, 21952, 27000, 32768, 42875, 46656, 64000, 85184, 91125, 110592, 125000, 140608, 166375, 175616, 216000, 262144, 274625, 314432, 343000, 373248, 421875, 438976, 512000, 592704, 614125, 681472, 729000, 778688, 857375, 884736, 1000000]\n"
     ]
    }
   ],
   "source": [
    "5)l = list(range(1,101))\n",
    "l1 = []\n",
    "for i in l :\n",
    "    if i%4==0 or i%5 ==0:\n",
    "        l1.append(i*i*i)\n",
    "print(l1)\n",
    "    \n"
   ]
  },
  {
   "cell_type": "code",
   "execution_count": 9,
   "id": "569ec713-2c07-49a7-b5c3-c37222e26279",
   "metadata": {},
   "outputs": [
    {
     "name": "stdout",
     "output_type": "stream",
     "text": [
      "i\n",
      "a\n",
      "o\n",
      "e\n",
      "o\n",
      "e\n",
      "a\n",
      "a\n",
      "a\n",
      "i\n",
      "e\n",
      "i\n",
      "Number of vowels 12\n"
     ]
    }
   ],
   "source": [
    "5)string = 'i want to become a data scientist'\n",
    "vowels =['a','e','i','o','u']\n",
    "count = 0\n",
    "for i in string:\n",
    "    if i in vowels:\n",
    "        print(i)\n",
    "        count+=1\n",
    "\n",
    "print(\"Number of vowels\",count)"
   ]
  },
  {
   "cell_type": "code",
   "execution_count": null,
   "id": "f7561752-6523-4b42-b1a9-2dadebd7df31",
   "metadata": {},
   "outputs": [],
   "source": []
  }
 ],
 "metadata": {
  "kernelspec": {
   "display_name": "Python 3 (ipykernel)",
   "language": "python",
   "name": "python3"
  },
  "language_info": {
   "codemirror_mode": {
    "name": "ipython",
    "version": 3
   },
   "file_extension": ".py",
   "mimetype": "text/x-python",
   "name": "python",
   "nbconvert_exporter": "python",
   "pygments_lexer": "ipython3",
   "version": "3.10.8"
  }
 },
 "nbformat": 4,
 "nbformat_minor": 5
}
